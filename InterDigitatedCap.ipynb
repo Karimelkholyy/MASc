{
 "cells": [
  {
   "cell_type": "code",
   "execution_count": 1,
   "id": "aefc7f87",
   "metadata": {},
   "outputs": [],
   "source": [
    "import numpy as np\n",
    "from matplotlib import cm\n",
    "import matplotlib.pyplot as plt\n",
    "import math\n",
    "from scipy import special\n",
    "from mpmath import *\n"
   ]
  },
  {
   "cell_type": "code",
   "execution_count": 2,
   "id": "04935830",
   "metadata": {},
   "outputs": [],
   "source": [
    "\n",
    "def K(k):\n",
    "    K=ellipk(k)\n",
    "    return K\n",
    "\n",
    "def interiorcap(K,K_pr):\n",
    "    CI=dc.Decimal(eps0*eps_r*l*K/K_pr)\n",
    "    return CI\n",
    "\n",
    "\n",
    "def totalcap(CI_air,CI_1,CI_S): \n",
    "    CI=CI_air+CI_1+CI_S\n",
    "    return CI "
   ]
  },
  {
   "cell_type": "code",
   "execution_count": 3,
   "id": "00a145e9",
   "metadata": {},
   "outputs": [
    {
     "ename": "KeyboardInterrupt",
     "evalue": "Interrupted by user",
     "output_type": "error",
     "traceback": [
      "\u001b[0;31m---------------------------------------------------------------------------\u001b[0m",
      "\u001b[0;31mKeyboardInterrupt\u001b[0m                         Traceback (most recent call last)",
      "\u001b[0;32m<ipython-input-3-0900f31461a9>\u001b[0m in \u001b[0;36m<module>\u001b[0;34m\u001b[0m\n\u001b[1;32m      1\u001b[0m \u001b[0;31m### Finding L\u001b[0m\u001b[0;34m\u001b[0m\u001b[0;34m\u001b[0m\u001b[0;34m\u001b[0m\u001b[0m\n\u001b[1;32m      2\u001b[0m \u001b[0;34m\u001b[0m\u001b[0m\n\u001b[0;32m----> 3\u001b[0;31m \u001b[0ml\u001b[0m\u001b[0;34m=\u001b[0m\u001b[0mfloat\u001b[0m\u001b[0;34m(\u001b[0m\u001b[0minput\u001b[0m\u001b[0;34m(\u001b[0m\u001b[0;34m'Insert total value of l in pH: '\u001b[0m\u001b[0;34m)\u001b[0m\u001b[0;34m)\u001b[0m\u001b[0;34m\u001b[0m\u001b[0;34m\u001b[0m\u001b[0m\n\u001b[0m\u001b[1;32m      4\u001b[0m \u001b[0ml\u001b[0m\u001b[0;34m=\u001b[0m\u001b[0ml\u001b[0m\u001b[0;34m*\u001b[0m\u001b[0;36m1e-12\u001b[0m\u001b[0;34m\u001b[0m\u001b[0;34m\u001b[0m\u001b[0m\n\u001b[1;32m      5\u001b[0m \u001b[0;34m\u001b[0m\u001b[0m\n",
      "\u001b[0;32m/opt/anaconda3/lib/python3.8/site-packages/ipykernel/kernelbase.py\u001b[0m in \u001b[0;36mraw_input\u001b[0;34m(self, prompt)\u001b[0m\n\u001b[1;32m    858\u001b[0m                 \u001b[0;34m\"raw_input was called, but this frontend does not support input requests.\"\u001b[0m\u001b[0;34m\u001b[0m\u001b[0;34m\u001b[0m\u001b[0m\n\u001b[1;32m    859\u001b[0m             )\n\u001b[0;32m--> 860\u001b[0;31m         return self._input_request(str(prompt),\n\u001b[0m\u001b[1;32m    861\u001b[0m             \u001b[0mself\u001b[0m\u001b[0;34m.\u001b[0m\u001b[0m_parent_ident\u001b[0m\u001b[0;34m,\u001b[0m\u001b[0;34m\u001b[0m\u001b[0;34m\u001b[0m\u001b[0m\n\u001b[1;32m    862\u001b[0m             \u001b[0mself\u001b[0m\u001b[0;34m.\u001b[0m\u001b[0m_parent_header\u001b[0m\u001b[0;34m,\u001b[0m\u001b[0;34m\u001b[0m\u001b[0;34m\u001b[0m\u001b[0m\n",
      "\u001b[0;32m/opt/anaconda3/lib/python3.8/site-packages/ipykernel/kernelbase.py\u001b[0m in \u001b[0;36m_input_request\u001b[0;34m(self, prompt, ident, parent, password)\u001b[0m\n\u001b[1;32m    902\u001b[0m             \u001b[0;32mexcept\u001b[0m \u001b[0mKeyboardInterrupt\u001b[0m\u001b[0;34m:\u001b[0m\u001b[0;34m\u001b[0m\u001b[0;34m\u001b[0m\u001b[0m\n\u001b[1;32m    903\u001b[0m                 \u001b[0;31m# re-raise KeyboardInterrupt, to truncate traceback\u001b[0m\u001b[0;34m\u001b[0m\u001b[0;34m\u001b[0m\u001b[0;34m\u001b[0m\u001b[0m\n\u001b[0;32m--> 904\u001b[0;31m                 \u001b[0;32mraise\u001b[0m \u001b[0mKeyboardInterrupt\u001b[0m\u001b[0;34m(\u001b[0m\u001b[0;34m\"Interrupted by user\"\u001b[0m\u001b[0;34m)\u001b[0m \u001b[0;32mfrom\u001b[0m \u001b[0;32mNone\u001b[0m\u001b[0;34m\u001b[0m\u001b[0;34m\u001b[0m\u001b[0m\n\u001b[0m\u001b[1;32m    905\u001b[0m             \u001b[0;32mexcept\u001b[0m \u001b[0mException\u001b[0m \u001b[0;32mas\u001b[0m \u001b[0me\u001b[0m\u001b[0;34m:\u001b[0m\u001b[0;34m\u001b[0m\u001b[0;34m\u001b[0m\u001b[0m\n\u001b[1;32m    906\u001b[0m                 \u001b[0mself\u001b[0m\u001b[0;34m.\u001b[0m\u001b[0mlog\u001b[0m\u001b[0;34m.\u001b[0m\u001b[0mwarning\u001b[0m\u001b[0;34m(\u001b[0m\u001b[0;34m\"Invalid Message:\"\u001b[0m\u001b[0;34m,\u001b[0m \u001b[0mexc_info\u001b[0m\u001b[0;34m=\u001b[0m\u001b[0;32mTrue\u001b[0m\u001b[0;34m)\u001b[0m\u001b[0;34m\u001b[0m\u001b[0;34m\u001b[0m\u001b[0m\n",
      "\u001b[0;31mKeyboardInterrupt\u001b[0m: Interrupted by user"
     ]
    }
   ],
   "source": [
    "### Finding L\n",
    "\n",
    "l=float(input('Insert total value of l in pH: '))\n",
    "l=l*1e-12\n",
    "\n",
    "# f=float(input('Insert desired resonance frequency in GHz: '))\n",
    "f=f*1e9\n",
    "w=2*np.pi*f\n",
    "\n",
    "c=1/(l*(w**2))\n",
    "# print('C should be ',c*1e15,'fF, to give you frequency of', f*1e-9, 'GHz')\n",
    "c=247e-15\n",
    "f=5e9\n",
    "w=2*np.pi*f\n",
    "\n",
    "l=1/(c*(w**2))\n",
    "Ls=8.8e-12\n",
    "length=(l*0.67e-6)/(Ls)\n",
    "\n",
    "print('Total Inductance should be',l*1e9,'nH')\n",
    "print('Total Length should be',length*1e6,'um')\n"
   ]
  },
  {
   "cell_type": "code",
   "execution_count": 3,
   "id": "500919e8",
   "metadata": {},
   "outputs": [
    {
     "name": "stdout",
     "output_type": "stream",
     "text": [
      "22.972037309241337 GHz\n"
     ]
    }
   ],
   "source": [
    "#Finding f \n",
    "\n",
    "c=12e-15\n",
    "l=4e-9\n",
    "f=1/(2*np.pi*np.sqrt(c*l))\n",
    "print (f*1e-9,'GHz')\n"
   ]
  },
  {
   "cell_type": "code",
   "execution_count": 13,
   "id": "ef9f7945",
   "metadata": {},
   "outputs": [
    {
     "name": "stdout",
     "output_type": "stream",
     "text": [
      "lambda =  24.49489742783178 mm\n",
      "Atot=  9.837792500000001e-07\n",
      "0.5338539126015656 x 0.0009918564664305014\n"
     ]
    }
   ],
   "source": [
    "#summation of Areas\n",
    "\n",
    "#wavelength of signal in Si\n",
    "\n",
    "lambdaa= 3e8/(np.sqrt(6)*5e9)\n",
    "print('lambda = ', lambdaa*1e3, 'mm')\n",
    "\n",
    "Al1=(101*97)*1e-12\n",
    "Al2=(990*983)*1e-12\n",
    "Ac=(28.5*28.5)*1e-12\n",
    "Atot=(Al1+Al2+Ac)\n",
    "print ('Atot= ', Atot)\n",
    "\n",
    "print (np.sqrt(0.285),'x', np.sqrt(Atot))\n"
   ]
  },
  {
   "cell_type": "code",
   "execution_count": 14,
   "id": "c743427b",
   "metadata": {},
   "outputs": [
    {
     "name": "stdout",
     "output_type": "stream",
     "text": [
      "Area = 121.0 um x  121.0 um\n",
      "C =  740.596507391989 fF\n"
     ]
    }
   ],
   "source": [
    "#Capacitance Calculations based on DOI:10.1016/j.sna.2004.01.040\n",
    "\n",
    "eps0=8e-12 #electrical Permitivity air \n",
    "eps_r_NbTiN=11 #relative permitivity of NbTiN [not accurate]\n",
    "eps_r_Si=11.7 #relative permitivity of Si\n",
    "W=0.5e-6 #width of the electrode\n",
    "G=W #spacing between electrodes\n",
    "lam=2*(W+G) #IDC spatial wavelength \n",
    "l=121e-6 #finger length [TO CHANGE]\n",
    "eta= 2*W/lam\n",
    "h=10e-9 #height of the sensitive layer --> NbTiN\n",
    "N=121#number of fingers [TO CHANGE]\n",
    "W=(N/2)*lam\n",
    "print('Area =',W*1e6,'um x ',l*1e6,'um')\n",
    "\n",
    "## INNER ELECTRODES##\n",
    "\n",
    "#Conformal mapping \n",
    "r=h/lam\n",
    "q=np.exp(-4*np.pi*r)\n",
    "k=((jtheta(2, 0, q))/(jtheta(3, 0, q)))**2\n",
    "t4=1/k\n",
    "\n",
    "#Conformal mapping substrate (Si)\n",
    "kI=np.sin(eta*np.pi/2)\n",
    "kI_pr=np.sqrt(1-(kI**2))\n",
    "CI_S=l*eps0*eps_r_Si*K(kI)/K(kI_pr)\n",
    "\n",
    "#Conformal mapping air\n",
    "kI_air=np.sin(eta*np.pi/2)\n",
    "kI_pr_air=np.sqrt(1-(kI_air**2))\n",
    "CI_air=l*eps0*K(kI_air)/K(kI_pr_air)\n",
    "\n",
    "#Conformal mapping sensitive layer\n",
    "CI_1=0\n",
    "\n",
    "\n",
    "##Total interior cap \n",
    "CI=totalcap(CI_air,CI_1,CI_S)\n",
    "\n",
    "\n",
    "##OUTER ELECTRODES##\n",
    "\n",
    "#Conformal mapping Si\n",
    "kE_S=2*np.sqrt(eta)/(1+eta)\n",
    "kE_pr_S=np.sqrt(1-(kE_S**2))\n",
    "CE_S=l*eps0*eps_r_Si*K(kE_S)/K(kE_pr_S)\n",
    "\n",
    "#Conformal mapping air\n",
    "kE_air=2*np.sqrt(eta)/(1+eta)\n",
    "kE_pr_air=np.sqrt(1-(kE_air**2))\n",
    "CE_air=l*eps0*K(kE_air)/K(kE_pr_air)\n",
    "\n",
    "\n",
    "#Conformal mapping electrodes\n",
    "CE_1=0\n",
    "\n",
    "##Total exterior cap \n",
    "CE=totalcap(CE_air,CE_1,CE_S)\n",
    "\n",
    "##Total interior and exterior cap \n",
    "C=(N-3)*(CI/2)+(2*CE*CI)/(CI+CE)\n",
    "\n",
    "print('C = ', C*1e15, 'fF')\n"
   ]
  },
  {
   "cell_type": "code",
   "execution_count": 11,
   "id": "3f9dfe25",
   "metadata": {},
   "outputs": [
    {
     "name": "stdout",
     "output_type": "stream",
     "text": [
      "66.49187127836535\n"
     ]
    }
   ],
   "source": [
    "## Checking the Coupling Quality Factor\n",
    "Cres=550e-15\n",
    "Cc=44e-15\n",
    "f=1.7e9\n",
    "omega=2*np.pi*f\n",
    "Z0=50\n",
    "# Qc=1684\n",
    "Qc=Cres/(4*Z0*omega*(Cc**2))\n",
    "# Qc=Cres/(4*Z0*omega*(Cc**2))\n",
    "\n",
    "# f=omega/(2*np.pi)\n",
    "# print(f*1e-9)\n",
    "print(Qc)"
   ]
  },
  {
   "cell_type": "code",
   "execution_count": 29,
   "id": "b98b33b5",
   "metadata": {},
   "outputs": [
    {
     "name": "stdout",
     "output_type": "stream",
     "text": [
      "419913725.6278342\n"
     ]
    }
   ],
   "source": [
    "## Another Try\n",
    "\n",
    "Lc=50*50e-12 #coupling length\n",
    "f=1.7e9\n",
    "\n",
    "A=4*1e-6*1e-9*1e9\n",
    "B=-3.35*1e-8*1e9\n",
    "C=2.6e-5*1e-9\n",
    "D=4.55e-8\n",
    "\n",
    "S13=A*f*Lc+B*Lc+C*f+D\n",
    "Qc=np.pi/((S13**2)*2)\n",
    "\n",
    "print(Qc)"
   ]
  }
 ],
 "metadata": {
  "kernelspec": {
   "display_name": "Python 3",
   "language": "python",
   "name": "python3"
  },
  "language_info": {
   "codemirror_mode": {
    "name": "ipython",
    "version": 3
   },
   "file_extension": ".py",
   "mimetype": "text/x-python",
   "name": "python",
   "nbconvert_exporter": "python",
   "pygments_lexer": "ipython3",
   "version": "3.8.8"
  }
 },
 "nbformat": 4,
 "nbformat_minor": 5
}
