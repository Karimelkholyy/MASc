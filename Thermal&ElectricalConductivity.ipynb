{
 "cells": [
  {
   "cell_type": "code",
   "execution_count": 2,
   "id": "099ce2cd",
   "metadata": {},
   "outputs": [],
   "source": [
    "import numpy as np\n",
    "import sys\n",
    "import math\n",
    "from matplotlib.pyplot import cm\n",
    "from datetime import datetime\n",
    "import matplotlib.pyplot as plt\n",
    "from matplotlib.animation import FuncAnimation\n",
    "# plt.rcParams.update({'font.size': 20,'figure.figsize': (10.0, 6.0)})\n",
    "import ipywidgets as wg\n",
    "from ipywidgets import Layout\n",
    "# %matplotlib widget\n",
    "# import PyQt5\n",
    "%matplotlib qt\n",
    "\n",
    "import time\n",
    "import csv\n",
    "import matplotlib\n",
    "from scipy.signal import savgol_filter\n",
    "\n",
    "def forceAspect(ax,aspect):\n",
    "    im = ax.get_images()\n",
    "    extent =  im[0].get_extent()\n",
    "    ax.set_aspect(abs((extent[1]-extent[0])/(extent[3]-extent[2]))/aspect)\n",
    "    \n",
    "    "
   ]
  },
  {
   "cell_type": "code",
   "execution_count": 3,
   "id": "f38bb029",
   "metadata": {},
   "outputs": [],
   "source": [
    "#Parameters\n",
    "\n",
    "#Dunker\n",
    "D1=1.27e-2                 #Inner Diameter of Dunker in m\n",
    "D2=1.397e-2                #Outer Diameter of Dunker in m\n",
    "Area_SS=(np.pi*(D2/2)**2)-(np.pi*(D1/2)**2)  #Area of cross section of stainless steel \n",
    "Temp2=4                    #Final Temp in K\n",
    "Temp1=300                  #Initial Temp in K\n",
    "TempDiff= Temp1-Temp2      #Final Change in Temp \n",
    "\n",
    "#wiring\n",
    "downwiring=2               #Length of downward wiring in m\n",
    "upwiring=2                 #Length of upward wiring in m\n",
    "totalwiring= 4             #Total length in m \n",
    "D=0.127e-3                 #Diameter of a 36AWG wire\n",
    "Area_wire=np.pi*(D/2)**2   #Area of cross section of a 36AWG wire\n",
    "no_wires=4\n",
    "\n",
    "#current\n",
    "I=10e-3                    #Operating Current in A\n",
    "\n",
    "#Iterations\n",
    "num=500"
   ]
  },
  {
   "cell_type": "code",
   "execution_count": 4,
   "id": "1344bc22",
   "metadata": {},
   "outputs": [
    {
     "name": "stdout",
     "output_type": "stream",
     "text": [
      "Copper Loom: \n",
      "Electrical Power= 0.9199999999999999 mW \n",
      "Thermal Power= 1.2936241941359117 mW\n"
     ]
    }
   ],
   "source": [
    "## Wiring\n",
    "#12-pair Copper Loom - 4m\n",
    "\n",
    "ResPerM_Cu= 2.3 #Electrical Resistance per meter ohm/m\n",
    "PtPerMK_Cu= 345 #Thermal conductivity in W/m.k\n",
    "#source: https://cds.cern.ch/record/1973682/files/arXiv:1501.07100.pdf\n",
    "\n",
    "\n",
    "#Thermal Conductivity\n",
    "Pt_Cu=no_wires*(PtPerMK_Cu*Area_wire*TempDiff)/totalwiring #total thermal power\n",
    "\n",
    "#Electrical Conductivity\n",
    "R_Cu= ResPerM_Cu*totalwiring\n",
    "# print(R_Cu)\n",
    "Pe_Cu= R_Cu*(I)**2 #total electrical power in W\n",
    " \n",
    "print('Copper Loom:','\\nElectrical Power=',Pe_Cu*1e3,'mW','\\nThermal Power=',Pt_Cu*1e3,'mW')"
   ]
  },
  {
   "cell_type": "code",
   "execution_count": 5,
   "id": "d3b0d8c8",
   "metadata": {},
   "outputs": [
    {
     "name": "stdout",
     "output_type": "stream",
     "text": [
      "Beryllium-Copper Loom: \n",
      "Electrical Power= 4.0 mW \n",
      "Thermal Power= 0.44995624143857793 mW\n"
     ]
    }
   ],
   "source": [
    "##Wiring\n",
    "# 12-pair Beryllium-Copper Loom - 4m\n",
    "\n",
    "ResPerM_Be_Cu= 10 #Electrical Resistance per meter ohm/m\n",
    "PtPerMK_Be_Cu= 120  # Average Thermal conductivity in W/m.k\n",
    "\n",
    "#Thermal Conductivity\n",
    "Pt_Be_Cu=no_wires*(PtPerMK_Be_Cu*Area_wire*TempDiff)/totalwiring #total thermal power in W\n",
    "\n",
    "#Electrical Conductivity\n",
    "R_Be_Cu= ResPerM_Be_Cu*totalwiring  \n",
    "Pe_Be_Cu= R_Be_Cu*(I)**2 #total electrical power in W\n",
    "\n",
    "print('Beryllium-Copper Loom:','\\nElectrical Power=',Pe_Be_Cu*1e3,'mW','\\nThermal Power=',Pt_Be_Cu*1e3,'mW')"
   ]
  },
  {
   "cell_type": "code",
   "execution_count": 17,
   "id": "5d7cf447",
   "metadata": {},
   "outputs": [
    {
     "name": "stdout",
     "output_type": "stream",
     "text": [
      "Time to boil 1 L of He \n",
      "Cu --> 19881.611695089974 min (or) 13.806674788256926 days \n",
      "Be-Cu --> 9890.078526354007 min (or) 6.868110087745839 days\n"
     ]
    }
   ],
   "source": [
    "#Boil-Off Calculation For Wiring\n",
    "Enthalpy_He= 0.0845 # Enthalpy of Vaporization of Helium \n",
    "Dens_LHe=125 #Density of Liquid Helium in g/L\n",
    "MolMass_He=4 #Molar Mass of Helium in g/mol \n",
    "TotMol_He=Dens_LHe/MolMass_He\n",
    "boilrate_He=Enthalpy_He*TotMol_He #How much Joules it takes to boil 1 Liter of He (kJ/L)\n",
    "\n",
    "\n",
    "TimePerLiter_Cu= (boilrate_He*1e3/(Pt_Cu+Pe_Cu))/60\n",
    "TimePerLiter_Be_Cu= (boilrate_He*1e3/(Pt_Be_Cu+Pe_Be_Cu))/60\n",
    "\n",
    "\n",
    "print('Time to boil 1 L of He','\\nCu -->',TimePerLiter_Cu,'min (or)',TimePerLiter_Cu/(60*24),'days'\\\n",
    "      , '\\nBe-Cu -->',TimePerLiter_Be_Cu,'min (or)',TimePerLiter_Be_Cu/(60*24),'days')"
   ]
  },
  {
   "cell_type": "markdown",
   "id": "e4be035f",
   "metadata": {},
   "source": [
    "# Boil-Off Calculations for the Sample Holder \n",
    "\n",
    "## Specific heat Change with Temp for Cu\n",
    "\n",
    "Interpolated from: \n",
    "\n",
    "![](c_Cu1.png \"c_Cu\") \n"
   ]
  },
  {
   "cell_type": "code",
   "execution_count": 7,
   "id": "d55b3619",
   "metadata": {},
   "outputs": [],
   "source": [
    "# Copper box (Karim's)\n",
    "\n",
    "ro=8.9e6          #Density in g/m3\n",
    "vol=7.57e-6       #vol in m3\n",
    "\n",
    "\n",
    "#Mass\n",
    "m_Cu=ro*vol        #Assuming mass of 150g\n",
    "\n",
    "##Specific Heat c\n",
    "\n",
    "#Interpolation to get c \n",
    "\n",
    "w = []\n",
    "x = []\n",
    "y = []\n",
    "    \n",
    "with open('Copper.csv', newline='') as f:\n",
    "    reader = csv.reader(f, delimiter=',')\n",
    "    \n",
    "    for row in reader:\n",
    "            w.extend(row)\n",
    "    \n",
    "           \n",
    "for i in range(len(w)):\n",
    "    if i%2==1:\n",
    "        y.append(float(w[i]))\n",
    "    else:\n",
    "        x.append(float(w[i]))\n",
    "        \n",
    "# print(y)\n",
    "z=np.linspace(0,300,num)\n",
    "c_Cu= np.interp(z, x, y)*1e-3\n",
    "# print(c_Cu)\n",
    "# plt.plot(z,c_Cu)\n",
    "\n",
    "dT=300/num \n",
    "# TempDiff=np.subtract(300,z[::-1])\n",
    "\n",
    "# print(TempDiff)\n",
    "\n",
    "#Thermal Energy\n",
    "Q_Cu=m_Cu*sum(np.multiply(c_Cu[::-1],dT))\n",
    "# print(Q_Cu)\n",
    "# print('Cu Box:''\\nThermal Energy=',Q_Cu,'kJ')"
   ]
  },
  {
   "cell_type": "markdown",
   "id": "b10c3887",
   "metadata": {},
   "source": [
    "## Specific heat Change with Temp for G10\n",
    "Interpolated from: \n",
    "\n",
    "http://www.yutopian.com/Yuan/prop/G10.html"
   ]
  },
  {
   "cell_type": "code",
   "execution_count": 8,
   "id": "31b3919b",
   "metadata": {},
   "outputs": [],
   "source": [
    "# G10 box (based on 67g of Cu)\n",
    "\n",
    "\n",
    "## mass\n",
    "m_G10= (m_Cu*2)/9          #Ratio of Densities is 2/9\n",
    "\n",
    "\n",
    "##Specific Heat c\n",
    "\n",
    "#Interpolation to get c \n",
    "\n",
    "w = []\n",
    "x = []\n",
    "y = []\n",
    "    \n",
    "with open('G10.csv', newline='') as f:\n",
    "    reader = csv.reader(f, delimiter=',')\n",
    "    \n",
    "    for row in reader:\n",
    "            w.extend(row)\n",
    "    \n",
    "           \n",
    "for i in range(len(w)):\n",
    "    if i%2==1:\n",
    "        y.append(float(w[i]))\n",
    "    else:\n",
    "        x.append(float(w[i]))\n",
    "\n",
    "x=x[::-1]\n",
    "y=y[::-1]\n",
    "\n",
    "\n",
    "z=np.linspace(0,300,num)\n",
    "c_G10= np.interp(z, x, y)\n",
    "# print(c_G10)\n",
    "# TempDiff=np.subtract(300,z[::-1])\n",
    "\n",
    "# plt.plot(x,y)\n",
    "\n",
    "#Thermal Energy\n",
    "Q_G10=m_G10*sum(np.multiply(c_G10[::-1],dT)) #Energy in J\n",
    "# print('G10 Box:''\\nThermal Energy=',Q_G10,'kJ') "
   ]
  },
  {
   "cell_type": "code",
   "execution_count": 9,
   "id": "72246d78",
   "metadata": {},
   "outputs": [
    {
     "name": "stdout",
     "output_type": "stream",
     "text": [
      "Mass of 67.373 g of Cu gives:\n",
      "\n",
      "Number of LHe Liters needed to cool down from 300 to 0: \n",
      "G10 --> 0.8340543380301555 L \n",
      "Cu --> 2.063786097267379 L \n",
      "\n",
      "So Relative Time to boil 1 L of LHe is\n",
      "T_G10= 2.4744024497751154 T_Cu\n",
      "Assuming same cooling power.\n"
     ]
    }
   ],
   "source": [
    "#Boil-Off Calculation\n",
    "Enthalpy_He= 0.0845 # Enthalpy of Vaporization of Helium \n",
    "Dens_LHe=125 #Density of Liquid Helium in g/L\n",
    "MolMass_He=4 #Molar Mass of Helium in g/mol \n",
    "TotMol_He=Dens_LHe/MolMass_He\n",
    "boilrate_He=Enthalpy_He*TotMol_He #How much Joules it takes to boil 1 Liter of He (kJ/L)\n",
    "\n",
    "\n",
    "NoOfLiters_Cu=Q_Cu/(boilrate_He*1e3)\n",
    "NoOfLiters_G10= Q_G10/(boilrate_He*1e3)\n",
    "\n",
    "# print(NoOfLiters_Cu)\n",
    "# print(NoOfLiters_G10)\n",
    "\n",
    "\n",
    "print('Mass of', m_Cu, 'g of Cu gives:\\n\\nNumber of LHe Liters needed to cool down from 300 to 0: \\nG10 -->',NoOfLiters_G10,'L', '\\nCu -->',NoOfLiters_Cu,'L \\n\\nSo Relative Time to boil 1 L of LHe is\\nT_G10='\\\n",
    "      ,NoOfLiters_Cu/NoOfLiters_G10, 'T_Cu\\nAssuming same cooling power.')"
   ]
  },
  {
   "cell_type": "code",
   "execution_count": 55,
   "id": "b4e0dbd1",
   "metadata": {},
   "outputs": [
    {
     "name": "stderr",
     "output_type": "stream",
     "text": [
      "<ipython-input-55-9bbda2a3007e>:3: DeprecationWarning: `np.float` is a deprecated alias for the builtin `float`. To silence this warning, use `float` by itself. Doing this will not modify any behavior and is safe. If you specifically wanted the numpy scalar type, use `np.float64` here.\n",
      "Deprecated in NumPy 1.20; for more details and guidance: https://numpy.org/devdocs/release/1.20.0-notes.html#deprecations\n",
      "  T=np.zeros((num),dtype=np.float)\n",
      "<ipython-input-55-9bbda2a3007e>:5: DeprecationWarning: `np.float` is a deprecated alias for the builtin `float`. To silence this warning, use `float` by itself. Doing this will not modify any behavior and is safe. If you specifically wanted the numpy scalar type, use `np.float64` here.\n",
      "Deprecated in NumPy 1.20; for more details and guidance: https://numpy.org/devdocs/release/1.20.0-notes.html#deprecations\n",
      "  m_G10=np.zeros((num),dtype=np.float)\n",
      "<ipython-input-55-9bbda2a3007e>:6: DeprecationWarning: `np.float` is a deprecated alias for the builtin `float`. To silence this warning, use `float` by itself. Doing this will not modify any behavior and is safe. If you specifically wanted the numpy scalar type, use `np.float64` here.\n",
      "Deprecated in NumPy 1.20; for more details and guidance: https://numpy.org/devdocs/release/1.20.0-notes.html#deprecations\n",
      "  Q_Cu=np.zeros((num,num),dtype=np.float)\n",
      "<ipython-input-55-9bbda2a3007e>:7: DeprecationWarning: `np.int` is a deprecated alias for the builtin `int`. To silence this warning, use `int` by itself. Doing this will not modify any behavior and is safe. When replacing `np.int`, you may wish to use e.g. `np.int64` or `np.int32` to specify the precision. If you wish to review your current use, check the release note link for additional information.\n",
      "Deprecated in NumPy 1.20; for more details and guidance: https://numpy.org/devdocs/release/1.20.0-notes.html#deprecations\n",
      "  Q_G10=np.zeros((num,num),dtype=np.int)\n",
      "<ipython-input-55-9bbda2a3007e>:8: DeprecationWarning: `np.float` is a deprecated alias for the builtin `float`. To silence this warning, use `float` by itself. Doing this will not modify any behavior and is safe. If you specifically wanted the numpy scalar type, use `np.float64` here.\n",
      "Deprecated in NumPy 1.20; for more details and guidance: https://numpy.org/devdocs/release/1.20.0-notes.html#deprecations\n",
      "  NoOfLiters_Cu=np.zeros((num,num),dtype=np.float)\n",
      "<ipython-input-55-9bbda2a3007e>:9: DeprecationWarning: `np.float` is a deprecated alias for the builtin `float`. To silence this warning, use `float` by itself. Doing this will not modify any behavior and is safe. If you specifically wanted the numpy scalar type, use `np.float64` here.\n",
      "Deprecated in NumPy 1.20; for more details and guidance: https://numpy.org/devdocs/release/1.20.0-notes.html#deprecations\n",
      "  NoOfLiters_G10=np.zeros((num,num),dtype=np.float)\n"
     ]
    },
    {
     "data": {
      "text/plain": [
       "Text(0.5, 1.0, 'G10\\nNumber of Liters VS. $m&T$')"
      ]
     },
     "execution_count": 55,
     "metadata": {},
     "output_type": "execute_result"
    }
   ],
   "source": [
    "# ## Color Map\n",
    "# # print(c_G10)\n",
    "# T=np.zeros((num),dtype=np.float)\n",
    "# m_Cu=np.linspace(50,300,num)*1e-3\n",
    "# m_G10=np.zeros((num),dtype=np.float)\n",
    "# Q_Cu=np.zeros((num,num),dtype=np.float)\n",
    "# Q_G10=np.zeros((num,num),dtype=np.int)\n",
    "# NoOfLiters_Cu=np.zeros((num,num),dtype=np.float)\n",
    "# NoOfLiters_G10=np.zeros((num,num),dtype=np.float)\n",
    "\n",
    "# for i in range(num): #Temp\n",
    "#     T[i]=300-i\n",
    "#     for k in range(num): #mass\n",
    "#         m_G10[k]=m_Cu[k]*2/9        \n",
    "#         Q_Cu[k,i]=m_Cu[k]*c_Cu[i]*(T[i]-300)\n",
    "#         Q_G10[k,i]=m_G10[k]*c_G10[i]*(T[i]-300)\n",
    "#         NoOfLiters_Cu[k,i]=Q_Cu[k,i]/(boilrate_He*1e3)\n",
    "#         NoOfLiters_G10[k,i]= Q_G10[k,i]/(boilrate_He*1e3)\n",
    "    \n",
    "\n",
    "# #Plotting Cu     \n",
    "# fig= plt.figure(1)\n",
    "# ax = fig.add_subplot(111)\n",
    "# NoOfLiters_Cu=NoOfLiters_Cu-NoOfLiters_Cu.min()\n",
    "# img = plt.imshow(NoOfLiters_Cu,extent= [min(T),max(T),min(m_Cu)*1e3,max(m_Cu)*1e3],cmap='viridis_r')\n",
    "# forceAspect(ax,aspect=1.0)\n",
    "# plt.colorbar()\n",
    "# plt.xlabel('$T$ [K]')\n",
    "# plt.ylabel('$Mass$ [g]')\n",
    "# plt.title('Cu\\nNumber of Liters VS. $m&T$')\n",
    "\n",
    "# #Plotting G10      \n",
    "# fig2= plt.figure(2)\n",
    "# ax = fig2.add_subplot(111)\n",
    "# NoOfLiters_G10=NoOfLiters_G10-NoOfLiters_G10.min()\n",
    "# img = plt.imshow(NoOfLiters_G10,extent= [min(z),max(z),min(m_G10)*1e3,max(m_G10)*1e3],cmap='viridis_r')\n",
    "# forceAspect(ax,aspect=1.0)\n",
    "# plt.colorbar()\n",
    "# plt.xlabel('$T$ [K]')\n",
    "# plt.ylabel('$Mass$ [g]')\n",
    "# plt.title('G10\\nNumber of Liters VS. $m&T$')\n"
   ]
  },
  {
   "cell_type": "code",
   "execution_count": null,
   "id": "dd53e120",
   "metadata": {},
   "outputs": [],
   "source": []
  }
 ],
 "metadata": {
  "kernelspec": {
   "display_name": "Python 3",
   "language": "python",
   "name": "python3"
  },
  "language_info": {
   "codemirror_mode": {
    "name": "ipython",
    "version": 3
   },
   "file_extension": ".py",
   "mimetype": "text/x-python",
   "name": "python",
   "nbconvert_exporter": "python",
   "pygments_lexer": "ipython3",
   "version": "3.8.8"
  }
 },
 "nbformat": 4,
 "nbformat_minor": 5
}
